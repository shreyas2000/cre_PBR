{
 "cells": [
  {
   "cell_type": "markdown",
   "metadata": {},
   "source": [
    "# PBR Modelling and Optimization #"
   ]
  },
  {
   "cell_type": "markdown",
   "metadata": {},
   "source": [
    "This code performs the differential analysis for Methoxy-MethylHeptane(MMH) process carried out in a packed bed reactor (PBR). The reactor optimization is also performed to ensure the various criteria required for the process are met.\n",
    "\n",
    "The reaction is as follows:\n",
    "   \n",
    "    MH + MeOH ↔ MMH\n",
    "    \n",
    "    2MeOH → DME + H2O\n",
    "    \n",
    "    MH + H2O → MHOH\n",
    "    \n",
    "The chemical 2-methoxy-2-methylheptane (MMH) produced from 2-methyl-1-heptene (MH) and\n",
    "ethanol (MeOH), as shown below. The undesired byproducts are dimethyl ether (DME) and 2-\n",
    "methyl-2-heptanol (MHOH). Water (H2O) is an intermediate reaction species.\n",
    "\n",
    "The process chemistry can then be rewritten as\n",
    "    \n",
    "    MH + MeOH ↔ MMH\n",
    "\n",
    "    2MeOH + MH → DME + MHOH\n",
    "\n",
    "\n"
   ]
  },
  {
   "cell_type": "markdown",
   "metadata": {},
   "source": [
    "## Mass and Energy Differential Balances  "
   ]
  },
  {
   "cell_type": "code",
   "execution_count": 2,
   "metadata": {},
   "outputs": [],
   "source": [
    "# Required packages\n",
    "import numpy as np\n",
    "import math\n",
    "from scipy.integrate import odeint\n",
    "import matplotlib.pyplot as plt\n",
    "import pandas as pd"
   ]
  },
  {
   "cell_type": "code",
   "execution_count": 3,
   "metadata": {},
   "outputs": [],
   "source": [
    "# CpdT integrals for reaction 1\n",
    "# A = MeOH, B = MH, C = MMH, D = DME, E = MHOH\n",
    "\n",
    "def Cp_integrals_rxn1(T, T_0):\n",
    "    # Cp Data - Integrals for heat of reactions. All in kJ/kmol/K\n",
    "    Cp_A = (105800*(T-T_0) - (362.23/2)*(T**2-T_0**2)\\\n",
    "            + (0.9397/3)*(T**3- T_0**3))/1000\n",
    "    Cp_B =  ((0.0004/3)*(T**3-T_0**3) + (0.3997/2)*(T**2-T_0**2)\\\n",
    "            + 81.72*(T-T_0))\n",
    "    Cp_C = ((8e-5/3)*(T**3 - T_0**3) + (0.7091/2)*(T**2-T_0**2)\\\n",
    "            + 66.375*(T-T_0))\n",
    "    \n",
    "    # Note: Account for stoich coeff.\n",
    "    return  Cp_C- Cp_A - Cp_B\n",
    "\n",
    "#CpdT integrals for reaction 2\n",
    "def Cp_integrals_rxn2(T, T_0):\n",
    "    # Cp Data - Integrals for heat of reactions. All in kJ/kmol/K\n",
    "    Cp_A = (105800*(T-T_0) - (362.23/2)*(T**2-T_0**2)\\\n",
    "            + (0.9397/3)*(T**3- T_0**3))/1000\n",
    "    Cp_B = ((0.0004/3)*(T**3-T_0**3) + (0.3997/2)*(T**2-T_0**2)\\\n",
    "            + 81.72*(T-T_0))\n",
    "    Cp_D = (134160*(T-T_0) + (447.67/2)*(T-T_0))/1000\n",
    "    Cp_E = 337.6*(T-T_0)\n",
    "    \n",
    "    return -1*(2*Cp_A+Cp_B-Cp_D-Cp_E)"
   ]
  },
  {
   "cell_type": "code",
   "execution_count": 4,
   "metadata": {},
   "outputs": [],
   "source": [
    "def reaction(x, W):\n",
    "    # A = MeOH, B = MH, C = MMH, D = DME, E = MHOH, W = catalyst\n",
    "    \n",
    "    # All rates are in kmol/s\n",
    "    F_A0 = float(75)/3600\n",
    "    F_B0 = float(152)/3600\n",
    "    \n",
    "    # Divide the flowrate by the number of tubes\n",
    "    n_tubes = 156\n",
    "    F_A0 = F_A0/n_tubes\n",
    "    F_B0 = F_B0/n_tubes\n",
    "    F_T0 = F_A0 + F_B0\n",
    "    \n",
    "    # x contains the state of the equations\n",
    "    z1 = x[0]\n",
    "    z2 = x[1]\n",
    "    T = x[2]\n",
    "    \n",
    "    # Reaction constants\n",
    "    kf = 6.7e7*math.exp(-90000/(8.314*T))\n",
    "    kr = 2.1e-6*math.exp(-900/(8.314*T))\n",
    "    k2 = 1.3e9*math.exp(-105900/(8.314*T))\n",
    "    \n",
    "    # Flow rates\n",
    "    F_A = F_A0 - z1 - 2*z2\n",
    "    F_B = F_B0 - z1 - z2\n",
    "    F_C = z1\n",
    "    F_D = z2\n",
    "    F_E = z2\n",
    "    F_T = F_T0 - z1 - z2\n",
    "    \n",
    "    # Effectiveness factor\n",
    "    ef = 0.65\n",
    "    \n",
    "    # Rate of reactions\n",
    "    r1 = ef*kf*((F_A*F_B)/F_T**2) - kr*(F_C/F_T)\n",
    "    \n",
    "    r2 = ef*k2*((F_A/F_T)**2)\n",
    "    \n",
    "    # Cp Data - All in kJ/kmol/K\n",
    "    Cp_A = (105800 - 362.23*T + 0.9397*(T**2))/1000\n",
    "    Cp_B = (0.0004*(T**2) + 0.3997*T + 81.72)\n",
    "    Cp_C = (8e-5*(T**2) + 0.7091*T + 66.375)\n",
    "    Cp_D = (134160 + 447.67*T)/1000\n",
    "    Cp_E = 337.6\n",
    "    \n",
    "    \n",
    "    # Delta H_rxn - All in kJ/kmol\n",
    "    Hrxn_1 = 36000 + Cp_integrals_rxn1(T, 273)\n",
    "    Hrxn_2 = -29000  + Cp_integrals_rxn2(T, 273)\n",
    "    \n",
    "    # Generated (consumed) heat in kJ/(kgcat*s)\n",
    "    # Hrxn should be negative for endothermic reactions.\n",
    "    Qg = r1*(-1)*Hrxn_1 + r2*(-1)*Hrxn_2 \n",
    "    \n",
    "    rho_bulk = 800 # kg/m^3\n",
    "    Ta = 410 # Kelvin, assummed steam temperature.\n",
    "    U =  100 # W/m^2/K, assumed Ua for Steam, verified by HTRI.\n",
    "    a =  4/0.06 # Heat exchanger area per unit volume = A/V = 4/D\n",
    "                # for pipes.\n",
    "    \n",
    "    Qr = U*a*(T-Ta)/(rho_bulk*1000) # kJ/kgCat/s\n",
    "    \n",
    "    # Differential equations\n",
    "    dz1dW = r1\n",
    "    \n",
    "    dz2dW = r2\n",
    "    \n",
    "    dTdW = (Qg - Qr)/(F_A*Cp_A+F_B*Cp_B+F_C*Cp_C+F_D*Cp_D+F_E*Cp_E)\n",
    "    \n",
    "    return [dz1dW, dz2dW, dTdW]\n",
    "    \n",
    "    \n",
    "    "
   ]
  },
  {
   "cell_type": "code",
   "execution_count": 5,
   "metadata": {},
   "outputs": [],
   "source": [
    "# Number of tubes.\n",
    "n_tubes = 156\n",
    "# Initial conditions: zheta1 = zheta2 = 0,\n",
    "# Inlet temperature = 390K.\n",
    "x0 = [0,0,390]\n",
    "# Integrate from 0 to cat_per_tube (kg) to determine\n",
    "# conversion per tube.\n",
    "total_amt_cat = 8000\n",
    "cat_per_tube = total_amt_cat/n_tubes\n",
    "W = np.linspace(0,cat_per_tube,2000)"
   ]
  },
  {
   "cell_type": "code",
   "execution_count": 6,
   "metadata": {},
   "outputs": [],
   "source": [
    "# Solve the set of differential equations.\n",
    "x = odeint(reaction, x0, W)"
   ]
  },
  {
   "cell_type": "code",
   "execution_count": 7,
   "metadata": {},
   "outputs": [],
   "source": [
    "# Get the solved results for each of the independent variables.\n",
    "zheta1 = x[:,0]\n",
    "zheta2 = x[:,1]\n",
    "temperature = x[:,2]"
   ]
  },
  {
   "cell_type": "code",
   "execution_count": 8,
   "metadata": {},
   "outputs": [],
   "source": [
    "# Flow profiles for each species.\n",
    "# A = MeOH, B = MH, C = MMH, D = DME, E = MHOH\n",
    "fa = (75.0/3600/n_tubes - zheta1 -2*zheta2)*3600\n",
    "fb = (152.0/3600/n_tubes - zheta1 -zheta2)*3600\n",
    "fc = 3600*zheta1\n",
    "fd = 3600*zheta2\n",
    "fe = 3600*zheta2"
   ]
  },
  {
   "cell_type": "code",
   "execution_count": 9,
   "metadata": {
    "scrolled": false
   },
   "outputs": [
    {
     "data": {
      "image/png": "[encoded data removed]",
      "text/plain": [
       "<Figure size 432x288 with 2 Axes>"
      ]
     },
     "metadata": {
      "needs_background": "light"
     },
     "output_type": "display_data"
    }
   ],
   "source": [
    "# Plot the flow rate and temperature profiles down the\n",
    "# length of a tube.\n",
    "fig, axs = plt.subplots(2,1)\n",
    "axs[0].plot(W, fa,\n",
    "            W, fb,\n",
    "            W, fc,\n",
    "            W, fd,\n",
    "            W, fe)\n",
    "axs[0].set_xlabel('Mass Catalyst (kg)')\n",
    "axs[0].set_ylabel('Molar flow rates (kmol/hr)')\n",
    "axs[0].grid(True)\n",
    "\n",
    "axs[1].plot(W, temperature)\n",
    "axs[1].set_xlabel('Mass Catalyst (kg)')\n",
    "axs[1].set_ylabel('Temperature (K)')\n",
    "\n",
    "fig.tight_layout()\n",
    "plt.show()"
   ]
  },
  {
   "cell_type": "code",
   "execution_count": 10,
   "metadata": {
    "scrolled": true
   },
   "outputs": [
    {
     "name": "stdout",
     "output_type": "stream",
     "text": [
      "MMH Yield: 89.3%\n"
     ]
    }
   ],
   "source": [
    "# MMH Yield\n",
    "print(\"MMH Yield: {}%\".format(round(fc[-1]/fa[0]*100, 1)))"
   ]
  },
  {
   "cell_type": "markdown",
   "metadata": {},
   "source": [
    "## Reactor Optimization ##"
   ]
  },
  {
   "cell_type": "markdown",
   "metadata": {
    "collapsed": true
   },
   "source": [
    "### Determining if dispersion can be ignored ###"
   ]
  },
  {
   "cell_type": "markdown",
   "metadata": {
    "collapsed": true
   },
   "source": [
    "Dispersion can be ignored if the Peclet number is greater than 500."
   ]
  },
  {
   "cell_type": "code",
   "execution_count": 11,
   "metadata": {},
   "outputs": [],
   "source": [
    "def calcPeclet(D,m, rho_fluid):\n",
    "    # D = diameter of tube\n",
    "    # m = mass flow rate in kg/s PER TUBE\n",
    "    \n",
    "    # Superficial velocity\n",
    "    U = (4*m)/(math.pi*rho_fluid*D**2)\n",
    "    dp = 850e-6\n",
    "    # Effective diffusivity in m^2/s\n",
    "    # Value from literature scaled up to reactor exit temperature.\n",
    "    De = 2.47e-9 *(410.0/367)\n",
    "    Pe = (U*dp)/De\n",
    "    \n",
    "    return Pe"
   ]
  },
  {
   "cell_type": "markdown",
   "metadata": {},
   "source": [
    "### Reynolds number ###"
   ]
  },
  {
   "cell_type": "code",
   "execution_count": 12,
   "metadata": {},
   "outputs": [],
   "source": [
    "def calcRe(D,m, rho_fluid, viscosity_fluid):\n",
    "    # D = diameter of tube\n",
    "    # m = mass flow rate in kg/s PER TUBE\n",
    "    \n",
    "    # Superficial velocity\n",
    "    U = (4*m)/(math.pi*rho_fluid*D**2)\n",
    "    \n",
    "    porosity = 0.32\n",
    "    dp = 850e-6 # meters\n",
    "    Re = D*U*rho_fluid/(viscosity_fluid*(1-porosity))\n",
    "    \n",
    "    return Re"
   ]
  },
  {
   "cell_type": "markdown",
   "metadata": {},
   "source": [
    "### Tallmadge Equation - Calculating Pressure Drop ###"
   ]
  },
  {
   "cell_type": "code",
   "execution_count": 13,
   "metadata": {},
   "outputs": [],
   "source": [
    "def tallmadge_equation(D,m, rho_fluid, viscosity_fluid, L):\n",
    "    # D = diameter of tube\n",
    "    # m = mass flow rate in kg/s PER TUBE\n",
    "    \n",
    "    porosity = 0.32\n",
    "    \n",
    "    # Superficial velocity\n",
    "    U = (4*m)/(math.pi*rho_fluid*D**2)\n",
    "    dp = float(850e-6)\n",
    "    Re = calcRe(D,m,rho_fluid,viscosity_fluid)\n",
    "\n",
    "    P_per_L = ((150/Re)+ (4.2/(Re**(1/6))))\\\n",
    "               *((1-porosity)/((porosity)**3))\\\n",
    "               *(U**2/dp)\n",
    "            \n",
    "    # Pressure drop in Pascals\n",
    "    return P_per_L*L "
   ]
  },
  {
   "cell_type": "markdown",
   "metadata": {},
   "source": [
    "### Reactor Optimization ###"
   ]
  },
  {
   "cell_type": "markdown",
   "metadata": {},
   "source": [
    "To peform the optimization, various combinations of tube diameter and length are used to compute the number of tubes required for fixed total volume (based on the amount of catalyst required for the reaction).\n",
    "For each diameter and length combination the following are computed:\n",
    "- Peclet number\n",
    "- Reynolds number\n",
    "- Pressure drop\n",
    "- Residence time\n",
    "- Reactor surface area"
   ]
  },
  {
   "cell_type": "code",
   "execution_count": 14,
   "metadata": {},
   "outputs": [],
   "source": [
    "def optimize_number_of_tubes(m_total, rho_fluid, viscosity_fluid, V_total):\n",
    "    \n",
    "    results = []\n",
    "    \n",
    "    # Go from 10cm to 700m of tube length.\n",
    "    for i in range(1,7000,5):\n",
    "        L = float(i)/10 # Length of tube in meters\n",
    "        \n",
    "        # Go from 20mm to 10cm in tube diamter. \n",
    "        for j in range(20,100,5):\n",
    "            D = float(j)/1000 # Diameter in meters\n",
    "            V_tube = (math.pi/4)*(D**2)*L\n",
    "            n_tubes = V_total/V_tube\n",
    "            \n",
    "            # Mass per tube\n",
    "            m_tube = float(m_total)/n_tubes\n",
    "            # Peclet number\n",
    "            Pe = calcPeclet(D,m_tube,rho_fluid)\n",
    "            # Reynolds number\n",
    "            Re = calcRe(D, m_tube, rho_fluid, viscosity_fluid)\n",
    "            # Pressure drop\n",
    "            deltaP = tallmadge_equation(D, m_tube, rho_fluid, viscosity_fluid, L)\n",
    "            # Residence time\n",
    "            residence_time = V_tube/(m_tube/rho_fluid)\n",
    "            # Reactor surface area\n",
    "            reactor_SA = n_tubes*math.pi*D*L\n",
    "            \n",
    "            results.append((round(n_tubes), round(Pe,-2), round(Re,-1), round(deltaP,-1), D, L, round(residence_time,-2), round(reactor_SA,-1) ))\n",
    "            \n",
    "    return results\n",
    "            "
   ]
  },
  {
   "cell_type": "code",
   "execution_count": 15,
   "metadata": {
    "scrolled": true
   },
   "outputs": [],
   "source": [
    "# Type in the actual parameters of the system.\n",
    "# Arg0: Mass flowrate (kg/s)\n",
    "# Arg1: Density (kg/m^3)\n",
    "# Arg2: Viscosity (Pa*s)\n",
    "# Arg3: Volume of reactor (m^3)\n",
    "results = optimize_number_of_tubes(\n",
    "    19310.0/3600, 660.0, 0.2e-3, 10)"
   ]
  },
  {
   "cell_type": "code",
   "execution_count": 16,
   "metadata": {},
   "outputs": [],
   "source": [
    "optimzed_results = pd.DataFrame(\n",
    "    results,columns=[\"Number of Tubes\", \"Peclet Number\",\n",
    "                     \"Reynolds Number\", \"Pressure Drop (Pa)\",\n",
    "                     \"Diameter of tube (m)\",\"Length of tube (m)\",\n",
    "                     \"Residence Time in tube (s)\",\n",
    "                     \"Reactor SA (m^2)\"])"
   ]
  },
  {
   "cell_type": "code",
   "execution_count": 17,
   "metadata": {},
   "outputs": [
    {
     "data": {
      "text/plain": [
       "22400"
      ]
     },
     "execution_count": 17,
     "metadata": {},
     "output_type": "execute_result"
    }
   ],
   "source": [
    "# Number of cases analyzed.\n",
    "len(optimzed_results)"
   ]
  },
  {
   "cell_type": "code",
   "execution_count": 18,
   "metadata": {
    "scrolled": true
   },
   "outputs": [
    {
     "data": {
      "text/html": [
       "<div>\n",
       "<style scoped>\n",
       "    .dataframe tbody tr th:only-of-type {\n",
       "        vertical-align: middle;\n",
       "    }\n",
       "\n",
       "    .dataframe tbody tr th {\n",
       "        vertical-align: top;\n",
       "    }\n",
       "\n",
       "    .dataframe thead th {\n",
       "        text-align: right;\n",
       "    }\n",
       "</style>\n",
       "<table border=\"1\" class=\"dataframe\">\n",
       "  <thead>\n",
       "    <tr style=\"text-align: right;\">\n",
       "      <th></th>\n",
       "      <th>Number of Tubes</th>\n",
       "      <th>Peclet Number</th>\n",
       "      <th>Reynolds Number</th>\n",
       "      <th>Pressure Drop (Pa)</th>\n",
       "      <th>Diameter of tube (m)</th>\n",
       "      <th>Length of tube (m)</th>\n",
       "      <th>Residence Time in tube (s)</th>\n",
       "      <th>Reactor SA (m^2)</th>\n",
       "    </tr>\n",
       "  </thead>\n",
       "  <tbody>\n",
       "    <tr>\n",
       "      <td>680</td>\n",
       "      <td>168</td>\n",
       "      <td>5300.0</td>\n",
       "      <td>4990.0</td>\n",
       "      <td>160.0</td>\n",
       "      <td>0.06</td>\n",
       "      <td>21.1</td>\n",
       "      <td>1200.0</td>\n",
       "      <td>670.0</td>\n",
       "    </tr>\n",
       "    <tr>\n",
       "      <td>696</td>\n",
       "      <td>164</td>\n",
       "      <td>5400.0</td>\n",
       "      <td>5110.0</td>\n",
       "      <td>170.0</td>\n",
       "      <td>0.06</td>\n",
       "      <td>21.6</td>\n",
       "      <td>1200.0</td>\n",
       "      <td>670.0</td>\n",
       "    </tr>\n",
       "    <tr>\n",
       "      <td>712</td>\n",
       "      <td>160</td>\n",
       "      <td>5500.0</td>\n",
       "      <td>5230.0</td>\n",
       "      <td>180.0</td>\n",
       "      <td>0.06</td>\n",
       "      <td>22.1</td>\n",
       "      <td>1200.0</td>\n",
       "      <td>670.0</td>\n",
       "    </tr>\n",
       "    <tr>\n",
       "      <td>728</td>\n",
       "      <td>156</td>\n",
       "      <td>5700.0</td>\n",
       "      <td>5350.0</td>\n",
       "      <td>190.0</td>\n",
       "      <td>0.06</td>\n",
       "      <td>22.6</td>\n",
       "      <td>1200.0</td>\n",
       "      <td>670.0</td>\n",
       "    </tr>\n",
       "    <tr>\n",
       "      <td>744</td>\n",
       "      <td>153</td>\n",
       "      <td>5800.0</td>\n",
       "      <td>5470.0</td>\n",
       "      <td>200.0</td>\n",
       "      <td>0.06</td>\n",
       "      <td>23.1</td>\n",
       "      <td>1200.0</td>\n",
       "      <td>670.0</td>\n",
       "    </tr>\n",
       "  </tbody>\n",
       "</table>\n",
       "</div>"
      ],
      "text/plain": [
       "     Number of Tubes  Peclet Number  Reynolds Number  Pressure Drop (Pa)  \\\n",
       "680              168         5300.0           4990.0               160.0   \n",
       "696              164         5400.0           5110.0               170.0   \n",
       "712              160         5500.0           5230.0               180.0   \n",
       "728              156         5700.0           5350.0               190.0   \n",
       "744              153         5800.0           5470.0               200.0   \n",
       "\n",
       "     Diameter of tube (m)  Length of tube (m)  Residence Time in tube (s)  \\\n",
       "680                  0.06                21.1                      1200.0   \n",
       "696                  0.06                21.6                      1200.0   \n",
       "712                  0.06                22.1                      1200.0   \n",
       "728                  0.06                22.6                      1200.0   \n",
       "744                  0.06                23.1                      1200.0   \n",
       "\n",
       "     Reactor SA (m^2)  \n",
       "680             670.0  \n",
       "696             670.0  \n",
       "712             670.0  \n",
       "728             670.0  \n",
       "744             670.0  "
      ]
     },
     "execution_count": 18,
     "metadata": {},
     "output_type": "execute_result"
    }
   ],
   "source": [
    "optimzed_results.loc[\n",
    "    (optimzed_results[\"Pressure Drop (Pa)\"] < 101000) \\\n",
    "     & (optimzed_results[\"Peclet Number\"] > 500) \\\n",
    "     & (optimzed_results[\"Reynolds Number\"] > 3500)\\\n",
    "     & (optimzed_results[\"Length of tube (m)\"] < 24)\\\n",
    "     & (optimzed_results[\"Number of Tubes\"] > 10)\\\n",
    "     & (optimzed_results[\"Reactor SA (m^2)\"] < 1000)\\\n",
    "     & (optimzed_results[\"Diameter of tube (m)\"] < 0.065)\\\n",
    "     & (optimzed_results[\"Number of Tubes\"] < 170),\n",
    "     :].head()"
   ]
  },
  {
   "cell_type": "markdown",
   "metadata": {},
   "source": [
    "#### Write data to csv ####"
   ]
  },
  {
   "cell_type": "code",
   "execution_count": 19,
   "metadata": {},
   "outputs": [],
   "source": [
    "data = pd.DataFrame({'Catalyst': W,'MeOH': fa, 'MH': fb, 'MMH': fc,\n",
    "                     'DME': fd, 'MHOH':fe, 'Temperature': temperature})"
   ]
  },
  {
   "cell_type": "code",
   "execution_count": 20,
   "metadata": {},
   "outputs": [
    {
     "data": {
      "text/html": [
       "<div>\n",
       "<style scoped>\n",
       "    .dataframe tbody tr th:only-of-type {\n",
       "        vertical-align: middle;\n",
       "    }\n",
       "\n",
       "    .dataframe tbody tr th {\n",
       "        vertical-align: top;\n",
       "    }\n",
       "\n",
       "    .dataframe thead th {\n",
       "        text-align: right;\n",
       "    }\n",
       "</style>\n",
       "<table border=\"1\" class=\"dataframe\">\n",
       "  <thead>\n",
       "    <tr style=\"text-align: right;\">\n",
       "      <th></th>\n",
       "      <th>Catalyst</th>\n",
       "      <th>MeOH</th>\n",
       "      <th>MH</th>\n",
       "      <th>MMH</th>\n",
       "      <th>DME</th>\n",
       "      <th>MHOH</th>\n",
       "      <th>Temperature</th>\n",
       "    </tr>\n",
       "  </thead>\n",
       "  <tbody>\n",
       "    <tr>\n",
       "      <td>0</td>\n",
       "      <td>0.000000</td>\n",
       "      <td>0.480769</td>\n",
       "      <td>0.974359</td>\n",
       "      <td>0.000000</td>\n",
       "      <td>0.000000</td>\n",
       "      <td>0.000000</td>\n",
       "      <td>390.000000</td>\n",
       "    </tr>\n",
       "    <tr>\n",
       "      <td>1</td>\n",
       "      <td>0.025654</td>\n",
       "      <td>0.479875</td>\n",
       "      <td>0.973520</td>\n",
       "      <td>0.000783</td>\n",
       "      <td>0.000056</td>\n",
       "      <td>0.000056</td>\n",
       "      <td>389.976961</td>\n",
       "    </tr>\n",
       "    <tr>\n",
       "      <td>2</td>\n",
       "      <td>0.051308</td>\n",
       "      <td>0.478983</td>\n",
       "      <td>0.972684</td>\n",
       "      <td>0.001564</td>\n",
       "      <td>0.000111</td>\n",
       "      <td>0.000111</td>\n",
       "      <td>389.954187</td>\n",
       "    </tr>\n",
       "    <tr>\n",
       "      <td>3</td>\n",
       "      <td>0.076962</td>\n",
       "      <td>0.478094</td>\n",
       "      <td>0.971850</td>\n",
       "      <td>0.002343</td>\n",
       "      <td>0.000166</td>\n",
       "      <td>0.000166</td>\n",
       "      <td>389.931675</td>\n",
       "    </tr>\n",
       "    <tr>\n",
       "      <td>4</td>\n",
       "      <td>0.102615</td>\n",
       "      <td>0.477209</td>\n",
       "      <td>0.971020</td>\n",
       "      <td>0.003118</td>\n",
       "      <td>0.000221</td>\n",
       "      <td>0.000221</td>\n",
       "      <td>389.909422</td>\n",
       "    </tr>\n",
       "  </tbody>\n",
       "</table>\n",
       "</div>"
      ],
      "text/plain": [
       "   Catalyst      MeOH        MH       MMH       DME      MHOH  Temperature\n",
       "0  0.000000  0.480769  0.974359  0.000000  0.000000  0.000000   390.000000\n",
       "1  0.025654  0.479875  0.973520  0.000783  0.000056  0.000056   389.976961\n",
       "2  0.051308  0.478983  0.972684  0.001564  0.000111  0.000111   389.954187\n",
       "3  0.076962  0.478094  0.971850  0.002343  0.000166  0.000166   389.931675\n",
       "4  0.102615  0.477209  0.971020  0.003118  0.000221  0.000221   389.909422"
      ]
     },
     "execution_count": 20,
     "metadata": {},
     "output_type": "execute_result"
    }
   ],
   "source": [
    "data.head()"
   ]
  },
  {
   "cell_type": "code",
   "execution_count": null,
   "metadata": {
    "collapsed": true
   },
   "outputs": [],
   "source": []
  },
  {
   "cell_type": "code",
   "execution_count": null,
   "metadata": {
    "collapsed": true
   },
   "outputs": [],
   "source": []
  },
  {
   "cell_type": "code",
   "execution_count": null,
   "metadata": {
    "collapsed": true
   },
   "outputs": [],
   "source": []
  }
 ],
 "metadata": {
  "kernelspec": {
   "display_name": "Python 3",
   "language": "python",
   "name": "python3"
  },
  "language_info": {
   "codemirror_mode": {
    "name": "ipython",
    "version": 3
   },
   "file_extension": ".py",
   "mimetype": "text/x-python",
   "name": "python",
   "nbconvert_exporter": "python",
   "pygments_lexer": "ipython3",
   "version": "3.7.4"
  }
 },
 "nbformat": 4,
 "nbformat_minor": 2
}
